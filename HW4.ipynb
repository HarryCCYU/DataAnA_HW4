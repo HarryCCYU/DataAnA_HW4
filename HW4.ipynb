{
 "cells": [
  {
   "cell_type": "markdown",
   "metadata": {},
   "source": [
    "# HW4 E94041173 張竣佑"
   ]
  },
  {
   "cell_type": "markdown",
   "metadata": {},
   "source": [
    "## Data Description:本資料為遊戲dota2的某些資訊，以下介紹之\n",
    "### data1:本遊戲的輸贏(-1為輸1為贏)\n",
    "### data2:遊戲的cluster id(<=223)\n",
    "### data3:Game_mode\n",
    "### data4:Game_type\n",
    "### data5(欄位五到最後):為one-hot encoding的方式:由1與-1分別代表遊戲中兩個隊伍所選取的英雄，兩陣營各五隻，113隻英雄會選擇10隻"
   ]
  },
  {
   "cell_type": "markdown",
   "metadata": {},
   "source": [
    "## Define Problem:藉由data2~data5(feature2~feature5) 預測遊戲最後的輸贏結果data1(label)"
   ]
  },
  {
   "cell_type": "markdown",
   "metadata": {},
   "source": [
    "## 準備資料"
   ]
  },
  {
   "cell_type": "code",
   "execution_count": 1,
   "metadata": {},
   "outputs": [
    {
     "name": "stdout",
     "output_type": "stream",
     "text": [
      "(92649, 116)\n",
      "(10293, 116)\n"
     ]
    },
    {
     "data": {
      "text/html": [
       "<div>\n",
       "<style scoped>\n",
       "    .dataframe tbody tr th:only-of-type {\n",
       "        vertical-align: middle;\n",
       "    }\n",
       "\n",
       "    .dataframe tbody tr th {\n",
       "        vertical-align: top;\n",
       "    }\n",
       "\n",
       "    .dataframe thead th {\n",
       "        text-align: right;\n",
       "    }\n",
       "</style>\n",
       "<table border=\"1\" class=\"dataframe\">\n",
       "  <thead>\n",
       "    <tr style=\"text-align: right;\">\n",
       "      <th></th>\n",
       "      <th>223</th>\n",
       "      <th>2</th>\n",
       "      <th>2.1</th>\n",
       "      <th>0</th>\n",
       "      <th>0.1</th>\n",
       "      <th>0.2</th>\n",
       "      <th>0.3</th>\n",
       "      <th>0.4</th>\n",
       "      <th>0.5</th>\n",
       "      <th>0.6</th>\n",
       "      <th>...</th>\n",
       "      <th>0.93</th>\n",
       "      <th>0.94</th>\n",
       "      <th>0.95</th>\n",
       "      <th>0.96</th>\n",
       "      <th>0.97</th>\n",
       "      <th>0.98</th>\n",
       "      <th>0.99</th>\n",
       "      <th>0.100</th>\n",
       "      <th>0.101</th>\n",
       "      <th>0.102</th>\n",
       "    </tr>\n",
       "  </thead>\n",
       "  <tbody>\n",
       "    <tr>\n",
       "      <th>0</th>\n",
       "      <td>152</td>\n",
       "      <td>2</td>\n",
       "      <td>2</td>\n",
       "      <td>0</td>\n",
       "      <td>0</td>\n",
       "      <td>0</td>\n",
       "      <td>1</td>\n",
       "      <td>0</td>\n",
       "      <td>-1</td>\n",
       "      <td>0</td>\n",
       "      <td>...</td>\n",
       "      <td>0</td>\n",
       "      <td>0</td>\n",
       "      <td>0</td>\n",
       "      <td>0</td>\n",
       "      <td>0</td>\n",
       "      <td>0</td>\n",
       "      <td>0</td>\n",
       "      <td>0</td>\n",
       "      <td>0</td>\n",
       "      <td>0</td>\n",
       "    </tr>\n",
       "    <tr>\n",
       "      <th>1</th>\n",
       "      <td>131</td>\n",
       "      <td>2</td>\n",
       "      <td>2</td>\n",
       "      <td>0</td>\n",
       "      <td>0</td>\n",
       "      <td>0</td>\n",
       "      <td>1</td>\n",
       "      <td>0</td>\n",
       "      <td>-1</td>\n",
       "      <td>0</td>\n",
       "      <td>...</td>\n",
       "      <td>0</td>\n",
       "      <td>0</td>\n",
       "      <td>0</td>\n",
       "      <td>0</td>\n",
       "      <td>0</td>\n",
       "      <td>0</td>\n",
       "      <td>0</td>\n",
       "      <td>0</td>\n",
       "      <td>0</td>\n",
       "      <td>0</td>\n",
       "    </tr>\n",
       "    <tr>\n",
       "      <th>2</th>\n",
       "      <td>154</td>\n",
       "      <td>2</td>\n",
       "      <td>2</td>\n",
       "      <td>0</td>\n",
       "      <td>0</td>\n",
       "      <td>0</td>\n",
       "      <td>0</td>\n",
       "      <td>0</td>\n",
       "      <td>0</td>\n",
       "      <td>-1</td>\n",
       "      <td>...</td>\n",
       "      <td>-1</td>\n",
       "      <td>0</td>\n",
       "      <td>0</td>\n",
       "      <td>0</td>\n",
       "      <td>0</td>\n",
       "      <td>0</td>\n",
       "      <td>0</td>\n",
       "      <td>0</td>\n",
       "      <td>0</td>\n",
       "      <td>0</td>\n",
       "    </tr>\n",
       "  </tbody>\n",
       "</table>\n",
       "<p>3 rows × 116 columns</p>\n",
       "</div>"
      ],
      "text/plain": [
       "   223  2  2.1  0  0.1  0.2  0.3  0.4  0.5  0.6  ...    0.93  0.94  0.95  \\\n",
       "0  152  2    2  0    0    0    1    0   -1    0  ...       0     0     0   \n",
       "1  131  2    2  0    0    0    1    0   -1    0  ...       0     0     0   \n",
       "2  154  2    2  0    0    0    0    0    0   -1  ...      -1     0     0   \n",
       "\n",
       "   0.96  0.97  0.98  0.99  0.100  0.101  0.102  \n",
       "0     0     0     0     0      0      0      0  \n",
       "1     0     0     0     0      0      0      0  \n",
       "2     0     0     0     0      0      0      0  \n",
       "\n",
       "[3 rows x 116 columns]"
      ]
     },
     "execution_count": 1,
     "metadata": {},
     "output_type": "execute_result"
    }
   ],
   "source": [
    "import pandas as pd\n",
    "from sklearn.linear_model import LogisticRegression\n",
    "from sklearn.metrics import accuracy_score\n",
    "train_data = pd.read_csv('./dota2Train.csv')\n",
    "test_data = pd.read_csv('./dota2Test.csv')\n",
    "\n",
    "train_x = train_data.drop('-1',axis=1)\n",
    "train_y = train_data['-1']\n",
    "test_x = test_data.drop('-1',axis=1)\n",
    "test_y = test_data['-1']\n",
    "print(train_x.shape);print(test_x.shape)\n",
    "train_x.head(3)\n",
    "# test_x.head(3)"
   ]
  },
  {
   "cell_type": "markdown",
   "metadata": {},
   "source": [
    "## Analyze the Data"
   ]
  },
  {
   "cell_type": "markdown",
   "metadata": {},
   "source": [
    "### Baseline 分析"
   ]
  },
  {
   "cell_type": "code",
   "execution_count": 3,
   "metadata": {},
   "outputs": [
    {
     "name": "stdout",
     "output_type": "stream",
     "text": [
      "0.899245623385675\n"
     ]
    },
    {
     "data": {
      "image/png": "[encoded data removed]",
      "text/plain": [
       "<Figure size 432x288 with 1 Axes>"
      ]
     },
     "metadata": {},
     "output_type": "display_data"
    }
   ],
   "source": [
    "import matplotlib.pyplot as plt\n",
    "x = [1,-1]\n",
    "win = 0;loss = 0;\n",
    "for i in train_y:\n",
    "    if i == 1:\n",
    "        win += 1\n",
    "    else:\n",
    "        loss += 1\n",
    "y = [win,loss]\n",
    "print(loss/win)\n",
    "plt.bar(x,y)\n",
    "plt.show()"
   ]
  },
  {
   "cell_type": "markdown",
   "metadata": {},
   "source": [
    "### training_data 的輸贏比例分布為balance_data 先用猜測贏當作baseline_model"
   ]
  },
  {
   "cell_type": "code",
   "execution_count": 4,
   "metadata": {},
   "outputs": [
    {
     "data": {
      "text/plain": [
       "0.5345380355581463"
      ]
     },
     "execution_count": 4,
     "metadata": {},
     "output_type": "execute_result"
    }
   ],
   "source": [
    "#test_data size = 10293\n",
    "balance_pred = list()\n",
    "for i in range(10293):\n",
    "    balance_pred.append(1)\n",
    "accuracy_score(balance_pred,test_y)"
   ]
  },
  {
   "cell_type": "markdown",
   "metadata": {},
   "source": [
    "### Correlation\n",
    "### 使用pearson correlation查看feature2~4之間關係\n",
    "### 使用spearman correlation 查看feature(data2~data4) 與 label(data1)的關係"
   ]
  },
  {
   "cell_type": "code",
   "execution_count": 5,
   "metadata": {},
   "outputs": [
    {
     "name": "stdout",
     "output_type": "stream",
     "text": [
      "p_data2&data3:  0.18533129969790804\n",
      "p_data2&data4:  0.0003786084292159853\n",
      "p_data3&data4:  -0.14759831609724913\n",
      "s_data2: -0.0010547173765111416\n",
      "s_data3: 0.00020056465632455693\n",
      "s_data4: -0.0022865718633413414\n"
     ]
    }
   ],
   "source": [
    "data2 = train_data['223']\n",
    "data3 = train_data['2']\n",
    "data4 = train_data['2.1']\n",
    "print('p_data2&data3: ',data2.corr(data3,'pearson'))\n",
    "print('p_data2&data4: ',data2.corr(data4,'pearson'))\n",
    "print('p_data3&data4: ',data3.corr(data4,'pearson'))\n",
    "print('s_data2:',data2.corr(train_y,'spearman'))\n",
    "print('s_data3:',data3.corr(train_y,'spearman'))\n",
    "print('s_data4:',data4.corr(train_y,'spearman'))"
   ]
  },
  {
   "cell_type": "markdown",
   "metadata": {},
   "source": [
    "## Problem\n",
    "### 採用logistic_regression\n",
    "### original_model:將data2~data4&data5(英雄選擇)當作features對應輸贏(label)做模型，先判斷與baseline_model的關係，其準確率約為0.597 > baseline(0.535) ，預期可有效增進準確率"
   ]
  },
  {
   "cell_type": "code",
   "execution_count": 6,
   "metadata": {},
   "outputs": [
    {
     "data": {
      "text/plain": [
       "0.5976877489556008"
      ]
     },
     "execution_count": 6,
     "metadata": {},
     "output_type": "execute_result"
    }
   ],
   "source": [
    "clf = LogisticRegression()\n",
    "clf.fit(train_x,train_y)\n",
    "pred = clf.predict(test_x)\n",
    "accuracy_score(pred,test_y)"
   ]
  },
  {
   "cell_type": "markdown",
   "metadata": {},
   "source": [
    "## Improvement\n",
    "### 由前面的spearman與pearson correlation判斷data2~data4之間關係不明顯以及個別與輸贏的關係也較低，試試看只使用英雄資料(data5)當作features"
   ]
  },
  {
   "cell_type": "code",
   "execution_count": 7,
   "metadata": {},
   "outputs": [
    {
     "data": {
      "text/plain": [
       "0.5974934421451472"
      ]
     },
     "execution_count": 7,
     "metadata": {},
     "output_type": "execute_result"
    }
   ],
   "source": [
    "train_x = train_x.drop('2.1',axis = 1)\n",
    "train_x = train_x.drop('2',axis = 1)\n",
    "train_x = train_x.drop('223',axis = 1)\n",
    "test_x = test_x.drop('2',axis = 1)\n",
    "test_x = test_x.drop('8',axis = 1)\n",
    "test_x = test_x.drop('223',axis = 1)\n",
    "clf = LogisticRegression()\n",
    "clf.fit(train_x,train_y)\n",
    "pred = clf.predict(test_x)\n",
    "accuracy_score(pred,test_y)"
   ]
  },
  {
   "cell_type": "markdown",
   "metadata": {},
   "source": [
    "### 並未如預期展現的進步\n",
    "### 嘗試調整模型參數"
   ]
  },
  {
   "cell_type": "code",
   "execution_count": 8,
   "metadata": {},
   "outputs": [
    {
     "data": {
      "text/plain": [
       "0.5975905955503741"
      ]
     },
     "execution_count": 8,
     "metadata": {},
     "output_type": "execute_result"
    }
   ],
   "source": [
    "clf2 = LogisticRegression(penalty='l2',C=0.1)\n",
    "clf2.fit(train_x,train_y)\n",
    "pred = clf2.predict(test_x)\n",
    "accuracy_score(pred,test_y)"
   ]
  },
  {
   "cell_type": "code",
   "execution_count": null,
   "metadata": {},
   "outputs": [],
   "source": [
    "from sklearn.svm import SVC\n",
    "clf3 = SVC(kernel='linear')\n",
    "clf3.fit(train_x,train_y)\n",
    "pred = clf3.predict(test_x)\n",
    "accuracy_score(pred,test_y)"
   ]
  },
  {
   "cell_type": "markdown",
   "metadata": {},
   "source": [
    "### 結論 : 由分析相關係數可以發現data2~data4的關係低落，但只有data5英雄資料的表現並未優於前者，但準確率已高於baseline，代表仍有機會嘗試增進準確率\n",
    "### original_model:baseline 以及 未處理features的Logistic_regression\n",
    "### result:未處理features的Logistic_regression優於baseline\n",
    "### approach:刪除data2~data4並調整參數\n",
    "### improvement:目前並未有有效的進步"
   ]
  },
  {
   "cell_type": "code",
   "execution_count": null,
   "metadata": {},
   "outputs": [],
   "source": []
  }
 ],
 "metadata": {
  "kernelspec": {
   "display_name": "Python 3",
   "language": "python",
   "name": "python3"
  },
  "language_info": {
   "codemirror_mode": {
    "name": "ipython",
    "version": 3
   },
   "file_extension": ".py",
   "mimetype": "text/x-python",
   "name": "python",
   "nbconvert_exporter": "python",
   "pygments_lexer": "ipython3",
   "version": "3.6.4"
  }
 },
 "nbformat": 4,
 "nbformat_minor": 2
}
